{
 "cells": [
  {
   "cell_type": "markdown",
   "metadata": {},
   "source": [
    "# 소셜 네트워크 분석\n",
    "## 1. 소셜 네트워크 분석 개요\n",
    "### 1.1 개념"
   ]
  },
  {
   "cell_type": "markdown",
   "metadata": {},
   "source": [
    "* 네트워크 : 각각의 개체들이 상호 연결된 구조\n",
    "* 구성요소 : node(Node, vertex)와 링크(link, edge)\n",
    "* 노드 : 고유한 속성을 가지고 있는 행위자\n",
    "* 링크 : 노드들간의 관계(relation)\n",
    "\n",
    "-> 네트워크는 복수의 노드들이 연결된 구조"
   ]
  },
  {
   "cell_type": "markdown",
   "metadata": {},
   "source": [
    "### 1.2 네트워크 이론"
   ]
  },
  {
   "cell_type": "markdown",
   "metadata": {},
   "source": [
    "* 바베라스와 리빗의 실험\n",
    "* 밀그램 6단계 분리이론\n",
    "* 그라노베터의 '약간 연결의 강점'\n",
    "* 프리만의 '중심성 지표' 개발\n",
    "* 버트의 '구조적 공백'\n",
    "* 왓츠, 스트로가츠의 '좁은 세상 네트워크'\n",
    "* 바라바시, 알버트, 정하웅의 '무척도 네트워크'"
   ]
  },
  {
   "cell_type": "markdown",
   "metadata": {},
   "source": [
    "## 2. 네트워크 이론 기초"
   ]
  },
  {
   "cell_type": "markdown",
   "metadata": {},
   "source": [
    "네트워크를 표현하는 네트워크 모델링 과정에서 중요하게 사용되는 것이 그래프, 행렬\n",
    "* 그래프 표현 방법\n",
    "  + 인접행렬 방식\n",
    "    + 인접한 노드들 간의 연결 관계를 행렬로 표현\n",
    "    + 대칭적인 특징\n",
    "  + 노드 리스트 방식\n",
    "    + 인접한 링크가 있는 노들만을 표기하는 방법으로 노드들만의 목록\n",
    "    + 방향성 표시 위해 incoming, outgoing 구분\n",
    "  + 엣지 리스트 방식\n",
    "    + 노드들을 연결한 링크들의 리스트로 \"링크의 목록\"\n",
    "    + 그래프 방향성 자체적 구분 힘들기 때문에 그래프 방향성 여부 명시 필요\n",
    "    + 고립된 노드는 목록 제외"
   ]
  },
  {
   "cell_type": "markdown",
   "metadata": {},
   "source": [
    "### 2.1 네트워크 유형\n",
    "* 방향성과 가중치에 따른 분류\n",
    "  + 네트워크는 링크의 방향성 유무와 가중치 유무에 따라 크게 4가지 유형으로 구분이 가능\n",
    "* 관계의 위상에 따른 분류\n",
    "  + ex) star, ring, line, bus..\n",
    "* 네트워크 크기에 따른 분류\n",
    "  + 네트워크를 이루고 있는 노드의 링크의 규모 등 네트워크 크기에 따라 다음과 같이 구분할 수 있음\n",
    "* 분석 대상에 따른 분류\n",
    "  + 전체 네트워크 vs 하위 네트워크(ex. 파당)\n",
    "  + 클러스터: 유사한 속성을 가지고 있는 노드들의 집합\n",
    "  + 에고 네트워크 :네트워크 상에서 분석하고자 하는 특정 노드를 중심에 두고, 그 노드와 직접적으로 연결된 노드들 간의 관계를 네트워크로 표현한 것"
   ]
  },
  {
   "cell_type": "markdown",
   "metadata": {},
   "source": [
    "## 3. 소셜 네트워크 분석 지표\n",
    "### 3.1 네트워크 수준의 속성 분석\n",
    "* 네트워크 크기\n",
    "* 네트워크 밀도\n",
    "* 포괄도\n",
    "\n",
    "### 3.2 노드 수준의 속성 분석\n",
    "* 연결정도\n",
    "* 연결거리\n",
    "* 직경\n",
    "* 평균연결거리\n",
    "\n",
    "### 3.3 네트워크에 내재된 속성 분석\n",
    "* 상호성\n",
    "* 군집화 계수\n",
    "\n",
    "### 3.4 중심성 지표\n",
    "* 연결정도 중심성: 한 노드가 얼마나 많은 다른 노드들과 연결관계를 맺고 있는 지 측정\n",
    "* 근접 중심성: 한 노드가 얼마나 전체 네트워크의 중심에 근접해 있는지를 측정\n",
    "* 매개 중심성: 한 노드가 다른 노드들 간의 네트워크 관계 형성에 있어서 중개자 혹은 매개자 역할을 얼마나 수행하는 지 측정하는 지표\n",
    "* 아이겐 벡터 중심성 : 연결된 다른 노드들의 중요도를 함께 반영한 것"
   ]
  },
  {
   "cell_type": "markdown",
   "metadata": {},
   "source": [
    "## 4. 소셜 네트워크 분석 도구 및 분석 사례"
   ]
  },
  {
   "cell_type": "code",
   "execution_count": 2,
   "metadata": {},
   "outputs": [],
   "source": [
    "import numpy as np \n",
    "import pandas ras pd \n",
    "import seaborn as sns\n",
    "import matplotlib.pyplot as plt\n",
    "import networkx as nx"
   ]
  }
 ],
 "metadata": {
  "kernelspec": {
   "display_name": "Python 3",
   "language": "python",
   "name": "python3"
  },
  "language_info": {
   "codemirror_mode": {
    "name": "ipython",
    "version": 3
   },
   "file_extension": ".py",
   "mimetype": "text/x-python",
   "name": "python",
   "nbconvert_exporter": "python",
   "pygments_lexer": "ipython3",
   "version": "3.7.4"
  }
 },
 "nbformat": 4,
 "nbformat_minor": 2
}
